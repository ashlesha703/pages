{
 "cells": [
  {
   "cell_type": "code",
   "execution_count": null,
   "id": "19aba7d1",
   "metadata": {},
   "outputs": [],
   "source": [
    "marklist = (86,78,95,63,85,71,96,75)\n",
    "for marks in marklist:\n",
    "    print(marks)\n"
   ]
  },
  {
   "cell_type": "code",
   "execution_count": null,
   "id": "c5878cb6",
   "metadata": {},
   "outputs": [],
   "source": [
    "marklist = (86,78,95,63,85,71,96,75)\n",
    "total=0\n",
    "for marks in marklist:\n",
    "    total=total+marks\n",
    "    \n",
    "print(\"total marks :\",total)\n",
    "    \n",
    "total_no_of_sub = len(marklist)\n",
    "print(\"total no of subject :\",total_no_of_sub)\n",
    "percentage=total//total_no_of_sub\n",
    "print(\"f{percentage}%\")"
   ]
  },
  {
   "cell_type": "code",
   "execution_count": null,
   "id": "400c066f",
   "metadata": {},
   "outputs": [],
   "source": [
    "round(81.915,2)"
   ]
  },
  {
   "cell_type": "code",
   "execution_count": null,
   "id": "faeef5a5",
   "metadata": {},
   "outputs": [],
   "source": [
    "for i in[1,2,3,4,5,6]:\n",
    "    print(i)"
   ]
  },
  {
   "cell_type": "code",
   "execution_count": null,
   "id": "78ccb0ab",
   "metadata": {},
   "outputs": [],
   "source": [
    "for i in[1,2,3,4,5,6,7,8]:\n",
    "    print(i)\n",
    "    if i==4:\n",
    "        break\n",
    "    "
   ]
  },
  {
   "cell_type": "code",
   "execution_count": null,
   "id": "da5ebcb2",
   "metadata": {},
   "outputs": [],
   "source": [
    "#armstrong number\n",
    "n=153\n",
    "total no of digit = 3\n",
    "cds = 1^3+5^3+3^3\n",
    "n == cds\n"
   ]
  },
  {
   "cell_type": "code",
   "execution_count": null,
   "id": "c3ce7efe",
   "metadata": {},
   "outputs": [],
   "source": [
    "#WAPP to print all Armstrong number from 0-1000."
   ]
  },
  {
   "cell_type": "code",
   "execution_count": null,
   "id": "08eb2b50",
   "metadata": {},
   "outputs": [],
   "source": [
    "count=0\n",
    "armnum = [0,0,0,0,0,0,0,0,0,0]\n",
    "\n",
    "for i in range(0,10):\n",
    "    for j in range(0,10):\n",
    "        for k in range(0,10):\n",
    "            if(i*100+j*10+k*1==i**3+j*3+k**3):\n",
    "                count+=1\n",
    "                armnum[count-1] = i*100+j*10+k*1\n",
    "                continue\n",
    "            else:\n",
    "                continue\n",
    "print(armnum)\n",
    "        \n"
   ]
  },
  {
   "cell_type": "code",
   "execution_count": 1,
   "id": "1eb6a1b3",
   "metadata": {},
   "outputs": [
    {
     "name": "stdout",
     "output_type": "stream",
     "text": [
      "enter the no : 7\n",
      "its an armstrong number:\n"
     ]
    }
   ],
   "source": [
    "num = int(input(\"enter the no : \"))\n",
    "\n",
    "    print(\"its an armstrong number:\")\n",
    "else:\n",
    "    print(\"its not an armstrong number\")\n",
    "    \n",
    "    "
   ]
  },
  {
   "cell_type": "code",
   "execution_count": 7,
   "id": "41654993",
   "metadata": {},
   "outputs": [
    {
     "name": "stdout",
     "output_type": "stream",
     "text": [
      "153370371407163482089474"
     ]
    }
   ],
   "source": [
    "num=100\n",
    "while num<=10000:\n",
    "    no_of_digit = len(str(num))\n",
    "    cds=0\n",
    "    for digit in str(num):\n",
    "        cds=cds+int(digit)**no_of_digit\n",
    "    if cds == num:\n",
    "        print(num,end=\"\")\n",
    "    num+=1"
   ]
  },
  {
   "cell_type": "raw",
   "id": "ad82aeb7",
   "metadata": {},
   "source": [
    "range function\n",
    "keyword : range(starting number , stoping number , steps)\n"
   ]
  },
  {
   "cell_type": "code",
   "execution_count": 8,
   "id": "fe8e5baa",
   "metadata": {},
   "outputs": [
    {
     "data": {
      "text/plain": [
       "range(0, 11)"
      ]
     },
     "execution_count": 8,
     "metadata": {},
     "output_type": "execute_result"
    }
   ],
   "source": [
    "range(0,11)"
   ]
  },
  {
   "cell_type": "code",
   "execution_count": 15,
   "id": "5e482a36",
   "metadata": {},
   "outputs": [
    {
     "name": "stdout",
     "output_type": "stream",
     "text": [
      "153 370 371 407 "
     ]
    }
   ],
   "source": [
    "for num in range (100,1001):\n",
    "    no_of_digit = len(str(num))\n",
    "    cds=0\n",
    "    for digit in str(num):\n",
    "        cds=cds+int(digit)**no_of_digit\n",
    "    if cds == num:\n",
    "        print(num,end=\" \")"
   ]
  },
  {
   "cell_type": "code",
   "execution_count": 16,
   "id": "e9c37201",
   "metadata": {},
   "outputs": [
    {
     "name": "stdout",
     "output_type": "stream",
     "text": [
      "enter the number :4\n",
      "(n)! = 24\n"
     ]
    }
   ],
   "source": [
    "n=int(input(\"enter the number :\"))\n",
    "s = 1\n",
    "for i in range(1,n+1):\n",
    "    s*=i\n",
    "print(f\"(n)! = {s}\")"
   ]
  },
  {
   "cell_type": "code",
   "execution_count": 32,
   "id": "e9d0f3e4",
   "metadata": {},
   "outputs": [],
   "source": [
    "import numpy as np\n",
    "speed_list = list(np.random.randint(0,10,100))"
   ]
  },
  {
   "cell_type": "code",
   "execution_count": null,
   "id": "c86880fc",
   "metadata": {},
   "outputs": [],
   "source": []
  },
  {
   "cell_type": "code",
   "execution_count": 30,
   "id": "3dcf21d6",
   "metadata": {},
   "outputs": [
    {
     "ename": "TypeError",
     "evalue": "'int' object is not iterable",
     "output_type": "error",
     "traceback": [
      "\u001b[1;31m---------------------------------------------------------------------------\u001b[0m",
      "\u001b[1;31mTypeError\u001b[0m                                 Traceback (most recent call last)",
      "\u001b[1;32m~\\AppData\\Local\\Temp/ipykernel_15392/3659928376.py\u001b[0m in \u001b[0;36m<module>\u001b[1;34m\u001b[0m\n\u001b[0;32m      1\u001b[0m \u001b[0mspeed_limit\u001b[0m \u001b[1;33m=\u001b[0m \u001b[1;36m80\u001b[0m\u001b[1;33m\u001b[0m\u001b[1;33m\u001b[0m\u001b[0m\n\u001b[1;32m----> 2\u001b[1;33m \u001b[1;32mfor\u001b[0m \u001b[0mspeed\u001b[0m \u001b[1;32min\u001b[0m \u001b[0mspeed_limit\u001b[0m\u001b[1;33m:\u001b[0m\u001b[1;33m\u001b[0m\u001b[1;33m\u001b[0m\u001b[0m\n\u001b[0m\u001b[0;32m      3\u001b[0m     \u001b[1;32mif\u001b[0m \u001b[0mspeed\u001b[0m \u001b[1;33m>\u001b[0m \u001b[0mspeed_limit\u001b[0m\u001b[1;33m:\u001b[0m\u001b[1;33m\u001b[0m\u001b[1;33m\u001b[0m\u001b[0m\n\u001b[0;32m      4\u001b[0m         \u001b[0mprint\u001b[0m\u001b[1;33m(\u001b[0m\u001b[1;34m\"red\"\u001b[0m\u001b[1;33m,\u001b[0m\u001b[0mend\u001b[0m\u001b[1;33m=\u001b[0m\u001b[1;34m\" \"\u001b[0m\u001b[1;33m)\u001b[0m\u001b[1;33m\u001b[0m\u001b[1;33m\u001b[0m\u001b[0m\n\u001b[0;32m      5\u001b[0m         \u001b[1;32mcontinue\u001b[0m\u001b[1;33m\u001b[0m\u001b[1;33m\u001b[0m\u001b[0m\n",
      "\u001b[1;31mTypeError\u001b[0m: 'int' object is not iterable"
     ]
    }
   ],
   "source": [
    "speed_limit = 80\n",
    "for speed in speed_limit:\n",
    "    if speed > speed_limit:\n",
    "        print(\"red\",end=\" \")\n",
    "        continue\n",
    "    if speed>40 and speed<60:\n",
    "        print(\"yellow\",end=\" \")\n",
    "        continue\n",
    "    print(\"green\",end=\" \")\n",
    "else:\n",
    "    print(\"right end \")\n"
   ]
  },
  {
   "cell_type": "code",
   "execution_count": null,
   "id": "d92e447a",
   "metadata": {},
   "outputs": [],
   "source": []
  }
 ],
 "metadata": {
  "kernelspec": {
   "display_name": "Python 3 (ipykernel)",
   "language": "python",
   "name": "python3"
  },
  "language_info": {
   "codemirror_mode": {
    "name": "ipython",
    "version": 3
   },
   "file_extension": ".py",
   "mimetype": "text/x-python",
   "name": "python",
   "nbconvert_exporter": "python",
   "pygments_lexer": "ipython3",
   "version": "3.9.7"
  }
 },
 "nbformat": 4,
 "nbformat_minor": 5
}
