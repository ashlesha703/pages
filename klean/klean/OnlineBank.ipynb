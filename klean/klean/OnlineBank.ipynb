{
 "cells": [
  {
   "cell_type": "code",
   "execution_count": 2,
   "id": "25c919a6",
   "metadata": {},
   "outputs": [],
   "source": [
    "class OnlineBank:\n",
    "    def __init__(self,accountholdername,accountnumber,username,password,initialdeposit):\n",
    "        def __init__(self):\n",
    "            self.balance=0\n",
    "            self.accountholdername = accountholdername\n",
    "            self.accountnumber = accountnumber\n",
    "            self.username = username\n",
    "            self.password = password\n",
    "            self.initialdeposit = initialdeposit\n",
    "    \n",
    "    def about (self):\n",
    "            print(\"accountholdername:\",self.accountholdername)\n",
    "            print(\"accountnumber:\",self.accountnumber)\n",
    "            print(\"username:\",self.username)\n",
    "            print(\"password:\",self.password)\n",
    "            print(\"initialdeposit:\",self.initialdeposit)\n",
    "            \n",
    "            \n",
    "    def change_username(self):\n",
    "        self.username = input(\"set your username\")\n",
    "        print(\"username registered\")\n",
    "        \n",
    "    def login(self):\n",
    "        if (\"enter your username\")==self.username:\n",
    "            print(login)\n",
    "        else:\n",
    "            print(logout)\n",
    "            \n",
    "    def set_password(self):\n",
    "        self.password = input(\"set your password\")\n",
    "        print(\"password registered\")\n",
    "        \n",
    "    def password(self):\n",
    "        if (\"enter your password\")==self.password:\n",
    "            print(\"correct\")\n",
    "        else:\n",
    "            print(\"wrong\")\n",
    "       \n",
    "     \n",
    "        \n",
    "            \n",
    "            \n",
    "    def deposit(self):\n",
    "        amount=float(input(\"enter the amount\"))\n",
    "        self.balance =self. bal+amount\n",
    "        print(\"Amount initial Deposited: \",amount)\n",
    "        \n",
    "    def withdraw(self):\n",
    "        amount = float(input(\"Enter amount to withdraw: \"))\n",
    "        if self.balance>=amount:\n",
    "            self.balance-=amount\n",
    "            print(\"You withdraw: \",amount)\n",
    "        else:\n",
    "            print(\"Insufficient balance \")\n",
    "        \n",
    "    "
   ]
  },
  {
   "cell_type": "code",
   "execution_count": null,
   "id": "beb2aab9",
   "metadata": {},
   "outputs": [],
   "source": []
  }
 ],
 "metadata": {
  "kernelspec": {
   "display_name": "Python 3 (ipykernel)",
   "language": "python",
   "name": "python3"
  },
  "language_info": {
   "codemirror_mode": {
    "name": "ipython",
    "version": 3
   },
   "file_extension": ".py",
   "mimetype": "text/x-python",
   "name": "python",
   "nbconvert_exporter": "python",
   "pygments_lexer": "ipython3",
   "version": "3.9.7"
  }
 },
 "nbformat": 4,
 "nbformat_minor": 5
}
