{
 "cells": [
  {
   "cell_type": "code",
   "execution_count": null,
   "id": "dd2882ea",
   "metadata": {},
   "outputs": [],
   "source": [
    "a=(\"hello how are you\")\n",
    "print(a)"
   ]
  },
  {
   "cell_type": "code",
   "execution_count": null,
   "id": "e7ff3633",
   "metadata": {},
   "outputs": [],
   "source": [
    "a={1,2,3,4,5,\"cat\",\"lion\"}\n",
    "b={\"rion\",\"kaliakunda\",\"mizoram\"}\n",
    "len(a)"
   ]
  },
  {
   "cell_type": "code",
   "execution_count": null,
   "id": "1ca0b82d",
   "metadata": {},
   "outputs": [],
   "source": [
    "len(b)"
   ]
  },
  {
   "cell_type": "code",
   "execution_count": null,
   "id": "8c3e65ea",
   "metadata": {},
   "outputs": [],
   "source": [
    "a.add(8)"
   ]
  },
  {
   "cell_type": "code",
   "execution_count": null,
   "id": "e7e94828",
   "metadata": {},
   "outputs": [],
   "source": [
    "a"
   ]
  },
  {
   "cell_type": "code",
   "execution_count": null,
   "id": "d5f46556",
   "metadata": {},
   "outputs": [],
   "source": [
    "b.add(\"nandankanandd\")"
   ]
  },
  {
   "cell_type": "code",
   "execution_count": null,
   "id": "1c2e0170",
   "metadata": {},
   "outputs": [],
   "source": [
    "b"
   ]
  },
  {
   "cell_type": "code",
   "execution_count": null,
   "id": "99f6b518",
   "metadata": {},
   "outputs": [],
   "source": [
    "a=int(input(\"enter the number1 :\"))\n",
    "b=int(input(\"enter the number2 :\"))\n",
    "sum=a+b\n",
    "print(sum)"
   ]
  },
  {
   "cell_type": "raw",
   "id": "b7d1e72c",
   "metadata": {},
   "source": [
    "Write a Python program to sum all the items in a list."
   ]
  },
  {
   "cell_type": "code",
   "execution_count": null,
   "id": "0d13d491",
   "metadata": {},
   "outputs": [],
   "source": [
    "a=[1,2,3,4,5,6,7,8,9]\n",
    "b=[3,6,7,8,9,1,3,8,9]\n",
    "sum=a+b\n",
    "print(sum)"
   ]
  },
  {
   "cell_type": "raw",
   "id": "4061231b",
   "metadata": {},
   "source": [
    " to determine it's a negative or a positive integer"
   ]
  },
  {
   "cell_type": "code",
   "execution_count": null,
   "id": "e41be096",
   "metadata": {},
   "outputs": [],
   "source": [
    "d={'a':12, 'b':3.5, 'c':\"cat\"}\n",
    "d['a']"
   ]
  },
  {
   "cell_type": "code",
   "execution_count": null,
   "id": "3c3cb694",
   "metadata": {},
   "outputs": [],
   "source": [
    "d.get('a')"
   ]
  },
  {
   "cell_type": "code",
   "execution_count": null,
   "id": "247ba08d",
   "metadata": {},
   "outputs": [],
   "source": [
    "d.items()"
   ]
  },
  {
   "cell_type": "code",
   "execution_count": 2,
   "id": "d1550581",
   "metadata": {},
   "outputs": [
    {
     "data": {
      "text/plain": [
       "{'a': 12, 'b': 3.5, 'c': 'cat', 'd': 41, 'e': 'elephant', 'f': 4}"
      ]
     },
     "execution_count": 2,
     "metadata": {},
     "output_type": "execute_result"
    }
   ],
   "source": [
    "d={'a':12 ,'b':3.5, 'c':'cat','d':41}\n",
    "d.update({'e':'elephant','f':4})\n",
    "d"
   ]
  },
  {
   "cell_type": "code",
   "execution_count": 3,
   "id": "0a5419a6",
   "metadata": {},
   "outputs": [
    {
     "data": {
      "text/plain": [
       "{'b': 3.5, 'c': 'cat', 'd': 41, 'e': 'elephant', 'f': 4}"
      ]
     },
     "execution_count": 3,
     "metadata": {},
     "output_type": "execute_result"
    }
   ],
   "source": [
    "d.pop('a')\n",
    "d"
   ]
  },
  {
   "cell_type": "code",
   "execution_count": 4,
   "id": "73b70b36",
   "metadata": {},
   "outputs": [
    {
     "name": "stdout",
     "output_type": "stream",
     "text": [
      "enter a number: 322222\n",
      "positive and even\n"
     ]
    }
   ],
   "source": [
    "n=int(input(\"enter a number: \"))\n",
    "if n>=2:\n",
    "    if n%2==0:\n",
    "        print(\"positive and even\")\n",
    "    else:\n",
    "        print(\"positive and odd\")\n",
    "else:\n",
    "    if n<=-2:\n",
    "        if n%2==0:\n",
    "            print(\"negative and even\")\n",
    "        else:\n",
    "            print(\"negative and odd\")\n",
    "    else:\n",
    "        print(\"neither even nor odd\")"
   ]
  },
  {
   "cell_type": "code",
   "execution_count": null,
   "id": "4f338573",
   "metadata": {},
   "outputs": [],
   "source": []
  }
 ],
 "metadata": {
  "kernelspec": {
   "display_name": "Python 3 (ipykernel)",
   "language": "python",
   "name": "python3"
  },
  "language_info": {
   "codemirror_mode": {
    "name": "ipython",
    "version": 3
   },
   "file_extension": ".py",
   "mimetype": "text/x-python",
   "name": "python",
   "nbconvert_exporter": "python",
   "pygments_lexer": "ipython3",
   "version": "3.9.7"
  }
 },
 "nbformat": 4,
 "nbformat_minor": 5
}
