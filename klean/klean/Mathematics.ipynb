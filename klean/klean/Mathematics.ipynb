{
 "cells": [
  {
   "cell_type": "code",
   "execution_count": 14,
   "id": "463dd1e5",
   "metadata": {},
   "outputs": [],
   "source": [
    "class Maths:\n",
    "    \n",
    "    def Addition(self,*numbers):\n",
    "        a=0\n",
    "        for i in numbers:\n",
    "            a+=1\n",
    "        return a\n",
    "        pass\n",
    "    def Factorial(self,number):\n",
    "        m=1\n",
    "        for i in range(1,number=+1):\n",
    "            m*=1\n",
    "        return n\n",
    "        pass\n",
    "    def Round(self,number):\n",
    "        DC =str((number).find(\" . \"))\n",
    "        if DC != -1:\n",
    "            n=int(str(number)[DC+1])\n",
    "            if n>5:\n",
    "                return int(str(number)[:DC])+1\n",
    "            else:\n",
    "                return int(str(number)[:DC])\n",
    "        else:\n",
    "            return number\n",
    "        pass\n",
    "    def Square(self,number):\n",
    "        return number**2        \n",
    "        pass\n",
    "    def Cube(self):\n",
    "        return number**3\n",
    "        pass\n",
    "    def multiply(self):\n",
    "        a=1\n",
    "        for i in numbers:\n",
    "            a*=i\n",
    "        return a \n",
    "        pass\n",
    "    def Divide(self,number1,number2):\n",
    "        return(number1/number2)\n",
    "        pass\n",
    "    def Square_root(self,number):\n",
    "        return number**(0.5)\n",
    "        pass\n",
    "    \n",
    "class Physics:\n",
    "    \n",
    "    def Temperature_C2F(self,temp):\n",
    "            F=((9*temp)/5)+32\n",
    "            return F\n",
    "            pass\n",
    "    \n",
    "    def Temperature_F2C(self,temp):\n",
    "            C=5*((temp-32)/9)\n",
    "            return C\n",
    "            pass\n",
    "        \n",
    "class History:\n",
    "    \n",
    "    def Hitler(self):\n",
    "        print(\"HITLER\".CENTER(20,\" \"))\n",
    "        print(\"\"\"Adolf Hitler (German: [ˈad.ɔlf ˈhɪt.lɐ] (listen); 20 April 1889 – 30 April 1945) was an Austrian-born \n",
    "             German politician who was the dictator of Germany from 1933 until his death in 1945.\n",
    "             He rose to power as the leader of the Nazi Party,[a] becoming the chancellor in 1933 and then assuming the title \n",
    "             of Führer und Reichskanzler in 1934.[b] During his dictatorship, he initiated World War II in Europe by invading\n",
    "             Poland on 1 September 1939. He was closely involved in military operations throughout the war and was central\n",
    "             to the perpetration of the Holocaust, the genocide of about six million Jews and millions of other victims.\n",
    "             He frequently denounced international capitalism and communism as part of a Jewish conspiracy. \"\"\")\n",
    "        pass\n",
    "        \n",
    "    def Gandhi(self):\n",
    "        print(\"Mohandas Karamchand Gandhi\".center(36,\" \"))\n",
    "        print(\"\"\"Mohandas Karamchand Gandhi (/ˈɡɑːndi, ˈɡændi/;[3] GAHN-dee; 2 October 1869 – 30 January 1948) was an\n",
    "        Indian lawyer,[4] anti-colonial nationalist[5] and political ethicist[6] who employed nonviolent resistance\n",
    "        to lead the successful campaign for India's independence from British rule,[7] and to later inspire\n",
    "        movements for civil rights and freedom across the world. The honorific Mahātmā (Sanskrit: \"great-souled\", \n",
    "        \"venerable\"), first applied to him in 1914 in South Africa, is now used throughout the world.[8][9]\n",
    "        Born and raised in a Hindu family in coastal Gujarat, Gandhi trained in the law at the Inner Temple, London,\n",
    "        and was called to the bar at age 22 in June 1891. After two uncertain years in India, where he was unable to \n",
    "        start a successful law practice, he moved to South Africa in 1893 to represent an Indian merchant in a lawsuit.\n",
    "        He went on to live in South Africa for 21 years. It was here that Gandhi raised a family and first employed\n",
    "        nonviolent resistance in a campaign for civil rights. In 1915, aged 45, he returned to India and soon set about\n",
    "        organising peasants, farmers, and urban labourers to protest against excessive land-tax and discrimination.\"\"\")\n",
    "        pass\n",
    "        \n",
    "        "
   ]
  },
  {
   "cell_type": "code",
   "execution_count": 16,
   "id": "b68bb273",
   "metadata": {},
   "outputs": [],
   "source": [
    "class Subject(Maths,Physics,History):\n",
    "    pass"
   ]
  },
  {
   "cell_type": "code",
   "execution_count": 17,
   "id": "e0c3842f",
   "metadata": {},
   "outputs": [],
   "source": [
    "p1 = Subject()"
   ]
  },
  {
   "cell_type": "code",
   "execution_count": 18,
   "id": "efa440e4",
   "metadata": {},
   "outputs": [
    {
     "name": "stdout",
     "output_type": "stream",
     "text": [
      "     Mohandas Karamchand Gandhi     \n",
      "Mohandas Karamchand Gandhi (/ˈɡɑːndi, ˈɡændi/;[3] GAHN-dee; 2 October 1869 – 30 January 1948) was an\n",
      "        Indian lawyer,[4] anti-colonial nationalist[5] and political ethicist[6] who employed nonviolent resistance\n",
      "        to lead the successful campaign for India's independence from British rule,[7] and to later inspire\n",
      "        movements for civil rights and freedom across the world. The honorific Mahātmā (Sanskrit: \"great-souled\", \n",
      "        \"venerable\"), first applied to him in 1914 in South Africa, is now used throughout the world.[8][9]\n",
      "        Born and raised in a Hindu family in coastal Gujarat, Gandhi trained in the law at the Inner Temple, London,\n",
      "        and was called to the bar at age 22 in June 1891. After two uncertain years in India, where he was unable to \n",
      "        start a successful law practice, he moved to South Africa in 1893 to represent an Indian merchant in a lawsuit.\n",
      "        He went on to live in South Africa for 21 years. It was here that Gandhi raised a family and first employed\n",
      "        nonviolent resistance in a campaign for civil rights. In 1915, aged 45, he returned to India and soon set about\n",
      "        organising peasants, farmers, and urban labourers to protest against excessive land-tax and discrimination.\n"
     ]
    }
   ],
   "source": [
    "p1.Gandhi()"
   ]
  },
  {
   "cell_type": "code",
   "execution_count": 23,
   "id": "19f015d9",
   "metadata": {},
   "outputs": [
    {
     "data": {
      "text/plain": [
       "46.0"
      ]
     },
     "execution_count": 23,
     "metadata": {},
     "output_type": "execute_result"
    }
   ],
   "source": [
    "p1.Square_root(2116)"
   ]
  },
  {
   "cell_type": "code",
   "execution_count": 25,
   "id": "f0cbce8a",
   "metadata": {},
   "outputs": [
    {
     "data": {
      "text/plain": [
       "132.8"
      ]
     },
     "execution_count": 25,
     "metadata": {},
     "output_type": "execute_result"
    }
   ],
   "source": [
    "p1.Temperature_C2F(56)"
   ]
  },
  {
   "cell_type": "markdown",
   "id": "393a008e",
   "metadata": {},
   "source": [
    "# ERROR HANDELLING"
   ]
  },
  {
   "cell_type": "code",
   "execution_count": 26,
   "id": "83b1eef5",
   "metadata": {},
   "outputs": [
    {
     "name": "stdout",
     "output_type": "stream",
     "text": [
      "pehle define to karo\n"
     ]
    }
   ],
   "source": [
    "try:\n",
    "    print(aslesha)\n",
    "except:\n",
    "    print(\"pehle define to karo\")"
   ]
  },
  {
   "cell_type": "code",
   "execution_count": 27,
   "id": "538d3072",
   "metadata": {},
   "outputs": [
    {
     "name": "stdout",
     "output_type": "stream",
     "text": [
      "5\n"
     ]
    }
   ],
   "source": [
    "aslesha=5\n",
    "try:\n",
    "    print(aslesha)\n",
    "except:\n",
    "    print(\"pehle define to karo\")"
   ]
  },
  {
   "cell_type": "code",
   "execution_count": null,
   "id": "e20cf5fc",
   "metadata": {},
   "outputs": [],
   "source": []
  }
 ],
 "metadata": {
  "kernelspec": {
   "display_name": "Python 3 (ipykernel)",
   "language": "python",
   "name": "python3"
  },
  "language_info": {
   "codemirror_mode": {
    "name": "ipython",
    "version": 3
   },
   "file_extension": ".py",
   "mimetype": "text/x-python",
   "name": "python",
   "nbconvert_exporter": "python",
   "pygments_lexer": "ipython3",
   "version": "3.9.7"
  }
 },
 "nbformat": 4,
 "nbformat_minor": 5
}
