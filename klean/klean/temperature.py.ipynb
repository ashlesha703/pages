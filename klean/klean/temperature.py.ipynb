{
 "cells": [
  {
   "cell_type": "code",
   "execution_count": 17,
   "id": "ce018671",
   "metadata": {},
   "outputs": [],
   "source": [
    "class mathematics:\n",
    "    \n",
    "    def Addition(self,*numbers):\n",
    "        a=0\n",
    "        for i in numbers:\n",
    "            a+=1\n",
    "        return a\n",
    "        pass\n",
    "    def Factorial(self,number):\n",
    "        n=1\n",
    "        for i in range(1,number+=1):\n",
    "            n*=1\n",
    "        return n\n",
    "        pass\n",
    "    \n",
    "    def Round(self,number):\n",
    "        DC =str((number).find(\" , \"))\n",
    "        if DC != -1:\n",
    "            n=int(str(number)[DC+=1])\n",
    "            if n>5:\n",
    "                return int(str(number)[:DC])+1\n",
    "            else:\n",
    "                return int(str(number)[:DC]\n",
    "        else:\n",
    "            return number\n",
    "                    \n",
    "        pass\n",
    "    \n",
    "    def Square(self):\n",
    "            \n",
    "        pass\n",
    "    \n",
    "    def Cube(self):\n",
    "        pass\n",
    "    \n",
    "    def multiply(self):\n",
    "        pass\n",
    "    \n",
    "    \n",
    "    \n",
    "    \n",
    "    \n",
    "    \n",
    "    \n",
    "    \n",
    "    \n",
    "    \n",
    "    \n",
    "    \n",
    "    \n",
    "    \n",
    "    \n",
    "    \n",
    "    \n",
    "    \n",
    "    \n",
    "    \n",
    "    \n",
    "    \n",
    "    \n",
    "    \n",
    "    \n",
    "    \n",
    "    \n",
    "    \n",
    "    \n",
    "    \n",
    "    \n",
    "    \n",
    "    \n",
    "    \n",
    "    \n",
    "    \n",
    "    \n",
    "    \n",
    "    \n",
    "    \n",
    "    \n",
    "    \n",
    "    \n",
    "    \n",
    "    \n",
    "    \n",
    "    \n",
    "    \n",
    "    \n",
    "    \n",
    "    \n",
    "    \n",
    "    \n",
    "    \n",
    "    \n",
    "    \n",
    "    class Physics:\n",
    "        \n",
    "        def Temperature_C2F(self,temp):\n",
    "            F=((9*temp)/5)+32\n",
    "            return F\n",
    "            pass\n",
    "    \n",
    "    def Temperature_F2C(self,temp):\n",
    "            C=(5(temp-32))/9\n",
    "            return C\n",
    "            pass"
   ]
  },
  {
   "cell_type": "code",
   "execution_count": 20,
   "id": "0495b3fb",
   "metadata": {},
   "outputs": [],
   "source": [
    "P = Physics()"
   ]
  },
  {
   "cell_type": "code",
   "execution_count": 22,
   "id": "7bd684b3",
   "metadata": {},
   "outputs": [
    {
     "data": {
      "text/plain": [
       "-5.799999999999997"
      ]
     },
     "execution_count": 22,
     "metadata": {},
     "output_type": "execute_result"
    }
   ],
   "source": [
    "P.Temperature_C2F(-21)"
   ]
  },
  {
   "cell_type": "code",
   "execution_count": 25,
   "id": "7a31e2e0",
   "metadata": {},
   "outputs": [
    {
     "data": {
      "text/plain": [
       "93.2"
      ]
     },
     "execution_count": 25,
     "metadata": {},
     "output_type": "execute_result"
    }
   ],
   "source": [
    "P.Temperature_C2F(34)"
   ]
  },
  {
   "cell_type": "code",
   "execution_count": 26,
   "id": "73f2ca37",
   "metadata": {},
   "outputs": [
    {
     "data": {
      "text/plain": [
       "37.4"
      ]
     },
     "execution_count": 26,
     "metadata": {},
     "output_type": "execute_result"
    }
   ],
   "source": [
    "P.Temperature_C2F(3)"
   ]
  },
  {
   "cell_type": "code",
   "execution_count": null,
   "id": "ae763094",
   "metadata": {},
   "outputs": [],
   "source": []
  }
 ],
 "metadata": {
  "kernelspec": {
   "display_name": "Python 3 (ipykernel)",
   "language": "python",
   "name": "python3"
  },
  "language_info": {
   "codemirror_mode": {
    "name": "ipython",
    "version": 3
   },
   "file_extension": ".py",
   "mimetype": "text/x-python",
   "name": "python",
   "nbconvert_exporter": "python",
   "pygments_lexer": "ipython3",
   "version": "3.9.7"
  }
 },
 "nbformat": 4,
 "nbformat_minor": 5
}
