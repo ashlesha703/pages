{
 "cells": [
  {
   "cell_type": "markdown",
   "id": "3a6a19bd",
   "metadata": {},
   "source": [
    "# inheritance\n"
   ]
  },
  {
   "cell_type": "code",
   "execution_count": 1,
   "id": "c91380dc",
   "metadata": {},
   "outputs": [],
   "source": [
    "class A:\n",
    "    p1=\"x\"\n",
    "    p2=\"xx\"\n",
    "    \n",
    "    def func1(self):\n",
    "        print(self.p1,self.p2)"
   ]
  },
  {
   "cell_type": "code",
   "execution_count": 2,
   "id": "866b719b",
   "metadata": {},
   "outputs": [],
   "source": [
    "a=A()"
   ]
  },
  {
   "cell_type": "code",
   "execution_count": 3,
   "id": "04c842a3",
   "metadata": {},
   "outputs": [
    {
     "name": "stdout",
     "output_type": "stream",
     "text": [
      "x xx\n"
     ]
    }
   ],
   "source": [
    "a.func1()"
   ]
  },
  {
   "cell_type": "code",
   "execution_count": 4,
   "id": "47a884e5",
   "metadata": {},
   "outputs": [],
   "source": [
    "class B(A):\n",
    "    p3=\"xxx\"\n",
    "    pass"
   ]
  },
  {
   "cell_type": "code",
   "execution_count": 5,
   "id": "5e4559cb",
   "metadata": {},
   "outputs": [
    {
     "name": "stdout",
     "output_type": "stream",
     "text": [
      "x xx\n"
     ]
    }
   ],
   "source": [
    "b=B()\n",
    "b.func1()"
   ]
  },
  {
   "cell_type": "code",
   "execution_count": 7,
   "id": "50df6b90",
   "metadata": {},
   "outputs": [],
   "source": [
    "class A:\n",
    "    p1=\"x\"\n",
    "    p2=\"xx\"\n",
    "    \n",
    "    def func1(self):\n",
    "        print(\"hello from parent\",end=\" \")\n",
    "        print(self.p1,self.p2)\n",
    "        \n",
    "class B(A):\n",
    "    p3=\"xxx\"\n",
    "    \n",
    "    def func1(self):\n",
    "        print(\"hello from child\",end=\" \")\n",
    "        print(self.p1,self.p2,self.p3)"
   ]
  },
  {
   "cell_type": "code",
   "execution_count": 8,
   "id": "e5831843",
   "metadata": {},
   "outputs": [],
   "source": [
    "b=B()"
   ]
  },
  {
   "cell_type": "code",
   "execution_count": 9,
   "id": "b6e09a8e",
   "metadata": {},
   "outputs": [
    {
     "name": "stdout",
     "output_type": "stream",
     "text": [
      "hello from child x xx xxx\n"
     ]
    }
   ],
   "source": [
    "b.func1()"
   ]
  },
  {
   "cell_type": "code",
   "execution_count": 10,
   "id": "bfa18553",
   "metadata": {},
   "outputs": [
    {
     "name": "stdout",
     "output_type": "stream",
     "text": [
      "x xx\n"
     ]
    }
   ],
   "source": [
    "a.func1()"
   ]
  },
  {
   "cell_type": "code",
   "execution_count": 14,
   "id": "3338ed38",
   "metadata": {},
   "outputs": [],
   "source": [
    "class A:\n",
    "    def __init__(self,p_name,p_surname,p_gold,bank_bal):\n",
    "        self.p_name=p_name\n",
    "        self.p_surname=p_surname\n",
    "        self.p_gold=p_gold\n",
    "        self.bank_bal=bank_bal\n",
    "    \n",
    "    def printdetails_P(self):\n",
    "        print(\"Name :\",self.p_name+\" \"+self.p_surname)\n",
    "\n",
    "class B(A):\n",
    "    \n",
    "    def __init__(self,c_name,c_gold,c_bank_bal,p_name,p_surname,p_gold,bank_bal):\n",
    "        self.c_name=c_name\n",
    "        self.c_gold=c_gold\n",
    "        self.c_bank_bal=c_bank_bal\n",
    "        A.__init__(self,p_name,p_surname,p_gold,bank_bal)\n",
    "        \n",
    "    def printdetails_C(self):\n",
    "        print(\"Father name;\",self.p_name+ \" \"+self.p_surname)\n",
    "        print(\"name :\",self.c_name+ \" \"+self.p_surname)\n",
    "        print(\"p GOLD :\",self.p_gold)\n",
    "        print(\"p bank_balance :\",self.bank_bal)\n",
    "        print(\"c GOLD :\",self.c_gold)\n",
    "        print(\"c bank_balance :\",self.c_bank_bal)\n",
    "        \n",
    "class C(B):\n",
    "     def __init__(self,gc_name,c_name,c_gold,c_bank_bal,p_name,p_surname,p_gold,bank_bal):\n",
    "            self.gc_name=gc_name\n",
    "            B.__init__(self,c_name,c_gold,c_bank_bal,p_name,p_surname,p_gold,bank_bal)\n",
    "    "
   ]
  },
  {
   "cell_type": "code",
   "execution_count": 15,
   "id": "685f59a8",
   "metadata": {},
   "outputs": [],
   "source": [
    "b=B(\"CHOTA\",\"22kg\",100000000000,\"BADA\",\"BALA\",\"200kg\",99999999999999999999999)"
   ]
  },
  {
   "cell_type": "code",
   "execution_count": 16,
   "id": "c6c0ff09",
   "metadata": {},
   "outputs": [
    {
     "name": "stdout",
     "output_type": "stream",
     "text": [
      "Father name; BADA BALA\n",
      "name : CHOTA BALA\n",
      "p GOLD : 200kg\n",
      "p bank_balance : 99999999999999999999999\n",
      "c GOLD : 22kg\n",
      "c bank_balance : 100000000000\n"
     ]
    }
   ],
   "source": [
    "b.printdetails_C()"
   ]
  },
  {
   "cell_type": "code",
   "execution_count": 18,
   "id": "ee34a98c",
   "metadata": {},
   "outputs": [
    {
     "name": "stdout",
     "output_type": "stream",
     "text": [
      "Name : BADA BALA\n"
     ]
    }
   ],
   "source": [
    "b.printdetails_P()"
   ]
  },
  {
   "cell_type": "code",
   "execution_count": 20,
   "id": "4cedbe4a",
   "metadata": {},
   "outputs": [
    {
     "data": {
      "text/plain": [
       "'BALA'"
      ]
     },
     "execution_count": 20,
     "metadata": {},
     "output_type": "execute_result"
    }
   ],
   "source": [
    "b.p_surname"
   ]
  },
  {
   "cell_type": "code",
   "execution_count": 21,
   "id": "3474ec57",
   "metadata": {},
   "outputs": [
    {
     "data": {
      "text/plain": [
       "100000000000"
      ]
     },
     "execution_count": 21,
     "metadata": {},
     "output_type": "execute_result"
    }
   ],
   "source": [
    "b.c_bank_bal"
   ]
  },
  {
   "cell_type": "code",
   "execution_count": 22,
   "id": "5689095c",
   "metadata": {},
   "outputs": [
    {
     "data": {
      "text/plain": [
       "'22kg'"
      ]
     },
     "execution_count": 22,
     "metadata": {},
     "output_type": "execute_result"
    }
   ],
   "source": [
    "b.c_gold"
   ]
  },
  {
   "cell_type": "code",
   "execution_count": 23,
   "id": "17d4fd36",
   "metadata": {},
   "outputs": [
    {
     "data": {
      "text/plain": [
       "'CHOTA'"
      ]
     },
     "execution_count": 23,
     "metadata": {},
     "output_type": "execute_result"
    }
   ],
   "source": [
    "b.c_name"
   ]
  },
  {
   "cell_type": "code",
   "execution_count": 24,
   "id": "0285e191",
   "metadata": {},
   "outputs": [
    {
     "data": {
      "text/plain": [
       "'200kg'"
      ]
     },
     "execution_count": 24,
     "metadata": {},
     "output_type": "execute_result"
    }
   ],
   "source": [
    "b.p_gold"
   ]
  },
  {
   "cell_type": "code",
   "execution_count": 25,
   "id": "be7a77b6",
   "metadata": {},
   "outputs": [
    {
     "data": {
      "text/plain": [
       "'BALA'"
      ]
     },
     "execution_count": 25,
     "metadata": {},
     "output_type": "execute_result"
    }
   ],
   "source": [
    "b.p_surname"
   ]
  },
  {
   "cell_type": "code",
   "execution_count": 26,
   "id": "b18cbb4c",
   "metadata": {},
   "outputs": [
    {
     "data": {
      "text/plain": [
       "'BADA'"
      ]
     },
     "execution_count": 26,
     "metadata": {},
     "output_type": "execute_result"
    }
   ],
   "source": [
    "b.p_name"
   ]
  },
  {
   "cell_type": "code",
   "execution_count": null,
   "id": "c5d75762",
   "metadata": {},
   "outputs": [],
   "source": []
  }
 ],
 "metadata": {
  "kernelspec": {
   "display_name": "Python 3 (ipykernel)",
   "language": "python",
   "name": "python3"
  },
  "language_info": {
   "codemirror_mode": {
    "name": "ipython",
    "version": 3
   },
   "file_extension": ".py",
   "mimetype": "text/x-python",
   "name": "python",
   "nbconvert_exporter": "python",
   "pygments_lexer": "ipython3",
   "version": "3.9.7"
  }
 },
 "nbformat": 4,
 "nbformat_minor": 5
}
