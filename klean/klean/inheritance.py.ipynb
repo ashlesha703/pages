{
 "cells": [
  {
   "cell_type": "markdown",
   "id": "c22aca1b",
   "metadata": {},
   "source": [
    "# inheritance\n"
   ]
  },
  {
   "cell_type": "code",
   "execution_count": 1,
   "id": "18f4ce58",
   "metadata": {},
   "outputs": [],
   "source": [
    "class A:\n",
    "    p1=\"x\"\n",
    "    p2=\"xx\"\n",
    "    \n",
    "    def func1(self):\n",
    "        print(self.p1,self.p2)"
   ]
  },
  {
   "cell_type": "code",
   "execution_count": 2,
   "id": "b3b0f650",
   "metadata": {},
   "outputs": [],
   "source": [
    "a=A()"
   ]
  },
  {
   "cell_type": "code",
   "execution_count": 3,
   "id": "7c33e167",
   "metadata": {},
   "outputs": [
    {
     "name": "stdout",
     "output_type": "stream",
     "text": [
      "x xx\n"
     ]
    }
   ],
   "source": [
    "a.func1()"
   ]
  },
  {
   "cell_type": "code",
   "execution_count": 4,
   "id": "d9d7bdb6",
   "metadata": {},
   "outputs": [],
   "source": [
    "class B(A):\n",
    "    p3=\"xxx\"\n",
    "    pass"
   ]
  },
  {
   "cell_type": "code",
   "execution_count": 5,
   "id": "d9dd57f3",
   "metadata": {},
   "outputs": [
    {
     "name": "stdout",
     "output_type": "stream",
     "text": [
      "x xx\n"
     ]
    }
   ],
   "source": [
    "b=B()\n",
    "b.func1()"
   ]
  },
  {
   "cell_type": "code",
   "execution_count": 7,
   "id": "b4f9cfb6",
   "metadata": {},
   "outputs": [],
   "source": [
    "class A:\n",
    "    p1=\"x\"\n",
    "    p2=\"xx\"\n",
    "    \n",
    "    def func1(self):\n",
    "        print(\"hello from parent\",end=\" \")\n",
    "        print(self.p1,self.p2)\n",
    "        \n",
    "class B(A):\n",
    "    p3=\"xxx\"\n",
    "    \n",
    "    def func1(self):\n",
    "        print(\"hello from child\",end=\" \")\n",
    "        print(self.p1,self.p2,self.p3)"
   ]
  },
  {
   "cell_type": "code",
   "execution_count": 8,
   "id": "44c40719",
   "metadata": {},
   "outputs": [],
   "source": [
    "b=B()"
   ]
  },
  {
   "cell_type": "code",
   "execution_count": 9,
   "id": "a660ec95",
   "metadata": {},
   "outputs": [
    {
     "name": "stdout",
     "output_type": "stream",
     "text": [
      "hello from child x xx xxx\n"
     ]
    }
   ],
   "source": [
    "b.func1()"
   ]
  },
  {
   "cell_type": "code",
   "execution_count": 10,
   "id": "f6df5e53",
   "metadata": {},
   "outputs": [
    {
     "name": "stdout",
     "output_type": "stream",
     "text": [
      "x xx\n"
     ]
    }
   ],
   "source": [
    "a.func1()"
   ]
  },
  {
   "cell_type": "code",
   "execution_count": null,
   "id": "0bbc1248",
   "metadata": {},
   "outputs": [],
   "source": [
    "class A:\n",
    "    def __init__(self,p_name,p_surname,p_gold,bank_bal):\n",
    "        self.p_name=p_name\n",
    "        self.p_surname=p_surname\n",
    "        self.p_gold=p_gold\n",
    "        self.bank_bal=bank_bal\n",
    "    \n",
    "    def printdetails_P(self):\n",
    "        print(\"Name :\",self.p_name\" \"+self.p_surname)\n",
    "\n",
    "class B(A):\n",
    "     def __init__(self,c_name,c_gold,c_bank_bal,p_name,p_surname,p_gold,p_bank_bal):\n",
    "        self.p_name=c_name\n",
    "        self.p_gold=c_gold\n",
    "        self.bank_bal=c_bank_bal\n",
    "        A.__init__ def __init__(self,p_name,p_surname,p_gold,bank_bal)\n",
    "        \n",
    "        def printdetails_C(self):\n",
    "            print(\"Father name;\",self.p_name+ \" \"+self.p_surname)\n",
    "            print(\"name :\",self.c_name+ \" \"+self.p_surname)\n",
    "            print(\"p GOLD :\",self.p_gold)\n",
    "            print(\"p bank_balance :\",self.bank_bal)\n",
    "            print(\"c GOLD :\",self.c_gold)\n",
    "            print(\"c bank_balance :\",self.c_bank_bal)\n",
    "        \n",
    "class C(B):\n",
    "     def __init__(self,gc_name,c_name,c_gold,c_bank_bal,p_name,p_surname,p_gold,bank_bal):\n",
    "            self.gc_name=gc_name\n",
    "            B.__init__(self,c_name,c_gold,c_bank_bal,p_name,p_surname,p_gold,bank_bal)\n",
    "    "
   ]
  },
  {
   "cell_type": "code",
   "execution_count": 18,
   "id": "2cf061ce",
   "metadata": {},
   "outputs": [
    {
     "ename": "TypeError",
     "evalue": "A() takes no arguments",
     "output_type": "error",
     "traceback": [
      "\u001b[1;31m---------------------------------------------------------------------------\u001b[0m",
      "\u001b[1;31mTypeError\u001b[0m                                 Traceback (most recent call last)",
      "\u001b[1;32m~\\AppData\\Local\\Temp/ipykernel_3008/491664499.py\u001b[0m in \u001b[0;36m<module>\u001b[1;34m\u001b[0m\n\u001b[1;32m----> 1\u001b[1;33m \u001b[0ma\u001b[0m\u001b[1;33m=\u001b[0m\u001b[0mA\u001b[0m\u001b[1;33m(\u001b[0m\u001b[1;34m\"CHOTA\"\u001b[0m\u001b[1;33m,\u001b[0m\u001b[1;34m\"22kg\"\u001b[0m\u001b[1;33m,\u001b[0m\u001b[1;36m100000000000\u001b[0m\u001b[1;33m,\u001b[0m\u001b[1;34m\"BADA\"\u001b[0m\u001b[1;33m,\u001b[0m\u001b[1;34m\"BALA\"\u001b[0m\u001b[1;33m,\u001b[0m\u001b[1;34m\"200kg\"\u001b[0m\u001b[1;33m,\u001b[0m\u001b[1;36m99999999999999999999999\u001b[0m\u001b[1;33m)\u001b[0m\u001b[1;33m\u001b[0m\u001b[1;33m\u001b[0m\u001b[0m\n\u001b[0m",
      "\u001b[1;31mTypeError\u001b[0m: A() takes no arguments"
     ]
    }
   ],
   "source": [
    "(\"CHOTA\",\"22kg\",100000000000,\"BADA\",\"BALA\",\"200kg\",99999999999999999999999)"
   ]
  },
  {
   "cell_type": "code",
   "execution_count": null,
   "id": "cb26def9",
   "metadata": {},
   "outputs": [],
   "source": []
  }
 ],
 "metadata": {
  "kernelspec": {
   "display_name": "Python 3 (ipykernel)",
   "language": "python",
   "name": "python3"
  },
  "language_info": {
   "codemirror_mode": {
    "name": "ipython",
    "version": 3
   },
   "file_extension": ".py",
   "mimetype": "text/x-python",
   "name": "python",
   "nbconvert_exporter": "python",
   "pygments_lexer": "ipython3",
   "version": "3.9.7"
  }
 },
 "nbformat": 4,
 "nbformat_minor": 5
}
