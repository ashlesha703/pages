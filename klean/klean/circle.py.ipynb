{
 "cells": [
  {
   "cell_type": "code",
   "execution_count": null,
   "id": "876b7a0e",
   "metadata": {},
   "outputs": [],
   "source": [
    "def circle(radius):\n",
    "    area=3.14*(radius**2)\n",
    "    perimeter = \"perimeter : \",2*3.14*radius\n",
    "    print(\"area :\",area)\n",
    "    print(\"perimeter :\",perimeter)"
   ]
  },
  {
   "cell_type": "code",
   "execution_count": null,
   "id": "16d52638",
   "metadata": {},
   "outputs": [],
   "source": [
    "circle(5)"
   ]
  },
  {
   "cell_type": "code",
   "execution_count": null,
   "id": "9fbde454",
   "metadata": {},
   "outputs": [],
   "source": [
    "def linearEquation(x,m,c):\n",
    "    y=m*x+c\n",
    "    print(y)\n"
   ]
  },
  {
   "cell_type": "code",
   "execution_count": null,
   "id": "55bcce33",
   "metadata": {},
   "outputs": [],
   "source": [
    "linearEquation(2,21,4)"
   ]
  },
  {
   "cell_type": "code",
   "execution_count": null,
   "id": "4c50a778",
   "metadata": {},
   "outputs": [],
   "source": [
    "def linearEquation(x,m=1,c=0):\n",
    "    y=m*x+c\n",
    "    print(y)\n",
    "    "
   ]
  },
  {
   "cell_type": "code",
   "execution_count": null,
   "id": "b37b1f5a",
   "metadata": {},
   "outputs": [],
   "source": [
    "linearEquation(6)"
   ]
  },
  {
   "cell_type": "code",
   "execution_count": null,
   "id": "f30c760b",
   "metadata": {},
   "outputs": [],
   "source": [
    "linearEquation(2,45,7)"
   ]
  },
  {
   "cell_type": "code",
   "execution_count": null,
   "id": "ff554620",
   "metadata": {},
   "outputs": [],
   "source": [
    "def profitcalculator(cp,sp):\n",
    "    if sp>cp:\n",
    "         print(\"Profit : \",sp-cp)\n",
    "    elif sp==cp:\n",
    "        print(\"no gain , no loss\")\n",
    "    else:\n",
    "        print(\"loss :\",cp-sp)\n",
    "\n",
    "    "
   ]
  },
  {
   "cell_type": "code",
   "execution_count": null,
   "id": "4a8d8bae",
   "metadata": {},
   "outputs": [],
   "source": [
    "profitcalculator(100,100)"
   ]
  },
  {
   "cell_type": "code",
   "execution_count": null,
   "id": "3e7360b2",
   "metadata": {},
   "outputs": [],
   "source": [
    "s=\"bhubneswar\"\n",
    "s.count(\"b\")"
   ]
  },
  {
   "cell_type": "code",
   "execution_count": null,
   "id": "387fddcc",
   "metadata": {},
   "outputs": [],
   "source": [
    "type(s.count(\"b\"))"
   ]
  },
  {
   "cell_type": "code",
   "execution_count": null,
   "id": "fc02c466",
   "metadata": {},
   "outputs": [],
   "source": [
    "def COUNT(string,character):\n",
    "    c=0\n",
    "    for i in string:\n",
    "        if character==i:\n",
    "            c+=1\n",
    "    print(c)"
   ]
  },
  {
   "cell_type": "code",
   "execution_count": null,
   "id": "300feaad",
   "metadata": {},
   "outputs": [],
   "source": [
    "COUNT(\"bhubneswar\",\"u\")"
   ]
  },
  {
   "cell_type": "code",
   "execution_count": null,
   "id": "83e3f5d8",
   "metadata": {},
   "outputs": [],
   "source": [
    "type(COUNT(\"bhubneswar\",\"u\"))"
   ]
  },
  {
   "cell_type": "code",
   "execution_count": null,
   "id": "cea11118",
   "metadata": {},
   "outputs": [],
   "source": [
    "city=[\"bhubneswar\",\"kolkata\",\"mirzapur\",\"jonpur\",\"bbpur\"]\n",
    "\n",
    "for i in city:\n",
    "    if i.count(\"b\")>1:\n",
    "        print(i)"
   ]
  },
  {
   "cell_type": "code",
   "execution_count": null,
   "id": "20d1e8a8",
   "metadata": {},
   "outputs": [],
   "source": [
    "def COUNT(string,character):\n",
    "    c=0\n",
    "    for i in string:\n",
    "        if character==i:\n",
    "            c+=1\n",
    "    return c"
   ]
  },
  {
   "cell_type": "code",
   "execution_count": null,
   "id": "7767f180",
   "metadata": {},
   "outputs": [],
   "source": [
    "def profitcalculator(cp,sp):\n",
    "    if sp>cp:\n",
    "        pcent=((sp-cp)/cp)*100\n",
    "        print(\"profit :\",sp-cp)\n",
    "        return pcent\n",
    "    elif sp==cp:\n",
    "        print(\"no gain,no loss\")\n",
    "    else:\n",
    "        pcent=((cp-sp)/cp)*100\n",
    "        print(\"loss :\",cp-sp)\n",
    "        return pcent\n",
    "        \n",
    "        "
   ]
  },
  {
   "cell_type": "code",
   "execution_count": null,
   "id": "d2ad8c7d",
   "metadata": {},
   "outputs": [],
   "source": [
    "profitcalculator(100,100000)"
   ]
  },
  {
   "cell_type": "code",
   "execution_count": null,
   "id": "2d2120dd",
   "metadata": {},
   "outputs": [],
   "source": [
    "((120-100)/100)*100"
   ]
  },
  {
   "cell_type": "code",
   "execution_count": null,
   "id": "73dda440",
   "metadata": {},
   "outputs": [],
   "source": [
    "profitcalculator(100,100)"
   ]
  },
  {
   "cell_type": "code",
   "execution_count": null,
   "id": "6b4c0fa1",
   "metadata": {},
   "outputs": [],
   "source": [
    "profitcalculator(100000,10)"
   ]
  },
  {
   "cell_type": "code",
   "execution_count": null,
   "id": "e1b6fea4",
   "metadata": {},
   "outputs": [],
   "source": [
    "type(profitcalculator)"
   ]
  },
  {
   "cell_type": "code",
   "execution_count": null,
   "id": "6f223b2d",
   "metadata": {},
   "outputs": [],
   "source": [
    "def profitcalculator(cp,sp):\n",
    "    if sp>cp:\n",
    "        pcent=((sp-cp)/cp)*100\n",
    "        #print(\"profit :\",sp-cp)\n",
    "        return pcent\n",
    "    elif sp==cp:\n",
    "        return=0\n",
    "    else:\n",
    "        pcent=-(((cp-sp)/cp))*100\n",
    "        #print(\"loss :\",cp-sp)\n",
    "        return pcent\n",
    "        "
   ]
  },
  {
   "cell_type": "code",
   "execution_count": null,
   "id": "c1d42934",
   "metadata": {},
   "outputs": [],
   "source": [
    "profitcalculator(30,56)"
   ]
  },
  {
   "cell_type": "code",
   "execution_count": null,
   "id": "8f4bf552",
   "metadata": {},
   "outputs": [],
   "source": [
    "profit = profitcalculator(30,56)"
   ]
  },
  {
   "cell_type": "code",
   "execution_count": null,
   "id": "fbc9622d",
   "metadata": {},
   "outputs": [],
   "source": [
    "print(profit)"
   ]
  },
  {
   "cell_type": "code",
   "execution_count": null,
   "id": "023e227a",
   "metadata": {},
   "outputs": [],
   "source": [
    "cost_price =int(input(\"enter the number\"))\n",
    "selling_price =int(input(\"enter the number2\"))\n",
    "\n",
    "if profitcalculator(cost_price,selling_price)>30:\n",
    "    print(\"profit% is more than 30\")"
   ]
  },
  {
   "cell_type": "code",
   "execution_count": null,
   "id": "7f154be7",
   "metadata": {},
   "outputs": [],
   "source": [
    "#wap to add n numbers"
   ]
  },
  {
   "cell_type": "code",
   "execution_count": null,
   "id": "1a19a0bd",
   "metadata": {},
   "outputs": [],
   "source": [
    "def n_adder(*n_arguments):\n",
    "    a=0\n",
    "    for i in n_arguments:\n",
    "        a+=1\n",
    "    return a"
   ]
  },
  {
   "cell_type": "code",
   "execution_count": null,
   "id": "d5d003cd",
   "metadata": {},
   "outputs": [],
   "source": [
    "n_adder(1,2)"
   ]
  },
  {
   "cell_type": "raw",
   "id": "594d7fc7",
   "metadata": {},
   "source": [
    "# class"
   ]
  },
  {
   "cell_type": "raw",
   "id": "8f0c9fee",
   "metadata": {},
   "source": [
    "# blueprint of ur object"
   ]
  },
  {
   "cell_type": "code",
   "execution_count": null,
   "id": "ef64d2bc",
   "metadata": {},
   "outputs": [],
   "source": [
    "Akash=mobile(\"APPLE\",256,\"48MP\")\n",
    "Ashlesha=mobile(\"samsumg\",4,\"2MP\")\n",
    "Akash.about()"
   ]
  },
  {
   "cell_type": "code",
   "execution_count": null,
   "id": "5962aa3f",
   "metadata": {},
   "outputs": [],
   "source": [
    "class mobile:\n",
    "    #class variable\n",
    "    RAM = \"16GB\"\n",
    "    def_init_(self,company,ROM,camera):\n",
    "        self.company = company\n",
    "        self.ROM = ROM\n",
    "        self.camera = camera\n",
    "    def about (self):\n",
    "        print(\"about mobile\")\n",
    "        print(\"company :\",self.company)\n",
    "        print(\"RAM :\",self.RAM)\n",
    "        print(\"ROM :\",self.ROM)\n",
    "        print(\"camera :\",self.camera)\n",
    "        \n",
    "    "
   ]
  },
  {
   "cell_type": "code",
   "execution_count": null,
   "id": "2cdced44",
   "metadata": {},
   "outputs": [],
   "source": [
    "class Mobile:\n",
    "    #class variable\n",
    "    RAM = \"16GB\"\n",
    "    def_init_(self,company,ROM,camera):\n",
    "        self.company = company\n",
    "        self.ROM = ROM\n",
    "        self.camera = camera\n",
    "    def about (self):\n",
    "        print(\"about Mobile\")\n",
    "        print(\"company :\",self.company)\n",
    "        print(\"RAM :\",self.RAM)\n",
    "        print(\"ROM :\",self.ROM)\n",
    "        print(\"camera :\",self.camera)\n",
    "        \n",
    "Akash=Mobile(\"APPLE\",256,\"48MP\")\n",
    "Ashlesha=Mobile(\"samsumg\",4,\"2MP\")\n",
    "Akash.about()"
   ]
  },
  {
   "cell_type": "code",
   "execution_count": null,
   "id": "ee66f593",
   "metadata": {},
   "outputs": [],
   "source": [
    "class Mobile:\n",
    "    #class variable\n",
    "    RAM = \"16GB\"\n",
    "    def __init__(self,company,ROM,camera):\n",
    "        self.company = company\n",
    "        self.ROM = ROM\n",
    "        self.camera = camera\n",
    "        \n",
    "    def about (self):\n",
    "        print(\"about Mobile\")\n",
    "        print(\"company :\",self.company)\n",
    "        print(\"RAM :\",self.RAM)\n",
    "        print(\"ROM :\",self.ROM)\n",
    "        print(\"camera :\",self.camera)\n",
    "        \n",
    "Akash=Mobile(\"apple\",56,\"89MP\")\n",
    "Ashlesha=Mobile(\"samsumg\",4,\"2MP\")\n",
    "Akash.about()"
   ]
  },
  {
   "cell_type": "code",
   "execution_count": null,
   "id": "7376af82",
   "metadata": {},
   "outputs": [],
   "source": [
    "class Mobile:\n",
    "    #class variable\n",
    "    RAM = \"16GB\"\n",
    "    button = \"on\"\n",
    "    def __init__(self,company,ROM,camera):\n",
    "        self.company = company\n",
    "        self.ROM = ROM\n",
    "        self.camera = camera\n",
    "        \n",
    "    def about (self):\n",
    "        print(\"about Mobile\")\n",
    "        print(\"company :\",self.company)\n",
    "        print(\"RAM :\",self.RAM)\n",
    "        print(\"ROM :\",self.ROM)\n",
    "        print(\"camera :\",self.camera)\n",
    "    \n",
    "    def call(self):\n",
    "        if self.button==\"on\":\n",
    "            number = input(\"dial number ...\")\n",
    "            print(\"calling......\".center(20,\" \"))\n",
    "            print(f\"{number}\".center(20,\" \"))\n",
    "        else:\n",
    "            print(\"MobIle Locked\")\n",
    "        \n",
    "    def unlock(self):\n",
    "        if input(\"enter ur pin\")== self.pin:\n",
    "            self.button = \"on\"\n",
    "        else:\n",
    "            print(\"WRONG PIN\")\n",
    "        \n",
    "    def lock(self):\n",
    "        self.button = \"off\"\n",
    "        \n",
    "    def set_pin(self):\n",
    "        self.pin = input(\"set your pin\")"
   ]
  },
  {
   "cell_type": "code",
   "execution_count": null,
   "id": "d213af18",
   "metadata": {},
   "outputs": [],
   "source": [
    "a = Mobile(\"abc\",128,\"36\")"
   ]
  },
  {
   "cell_type": "code",
   "execution_count": null,
   "id": "c315cab2",
   "metadata": {},
   "outputs": [],
   "source": [
    "a.call()"
   ]
  },
  {
   "cell_type": "code",
   "execution_count": null,
   "id": "7c0a0d00",
   "metadata": {},
   "outputs": [],
   "source": [
    "a.lock()"
   ]
  },
  {
   "cell_type": "code",
   "execution_count": null,
   "id": "27a795b2",
   "metadata": {},
   "outputs": [],
   "source": [
    "a.call()"
   ]
  },
  {
   "cell_type": "code",
   "execution_count": null,
   "id": "72b5c08b",
   "metadata": {},
   "outputs": [],
   "source": [
    "a.unlock()"
   ]
  },
  {
   "cell_type": "code",
   "execution_count": null,
   "id": "cfdcb38c",
   "metadata": {},
   "outputs": [],
   "source": [
    "a.set_pin()"
   ]
  },
  {
   "cell_type": "code",
   "execution_count": null,
   "id": "25d910d0",
   "metadata": {},
   "outputs": [],
   "source": [
    "a.unlock()"
   ]
  },
  {
   "cell_type": "code",
   "execution_count": null,
   "id": "bc6bbb0b",
   "metadata": {},
   "outputs": [],
   "source": [
    "a.call()"
   ]
  },
  {
   "cell_type": "code",
   "execution_count": null,
   "id": "f8fe09ae",
   "metadata": {},
   "outputs": [],
   "source": []
  },
  {
   "cell_type": "code",
   "execution_count": null,
   "id": "5e2ca772",
   "metadata": {},
   "outputs": [],
   "source": [
    "class Mobile:\n",
    "    #class variable\n",
    "    RAM = \"16GB\"\n",
    "    def __init__(self,company,ROM,camera):\n",
    "        self.company = company\n",
    "        self.ROM = ROM\n",
    "        self.camera = camera\n",
    "        \n",
    "    def about (self):\n",
    "        print(\"about Mobile\")\n",
    "        print(\"company :\",self.company)\n",
    "        print(\"RAM :\",self.RAM)\n",
    "        print(\"ROM :\",self.ROM)\n",
    "        print(\"camera :\",self.camera)\n",
    "Ashlesha=Mobile(\"samsumg\",4,\"2MP\")"
   ]
  },
  {
   "cell_type": "code",
   "execution_count": null,
   "id": "b12c1432",
   "metadata": {},
   "outputs": [],
   "source": [
    "Ashlesha.about()"
   ]
  },
  {
   "cell_type": "raw",
   "id": "4bd952ab",
   "metadata": {},
   "source": [
    "# one liners"
   ]
  },
  {
   "cell_type": "code",
   "execution_count": null,
   "id": "f4e9d9d8",
   "metadata": {},
   "outputs": [],
   "source": [
    "marks=int(input(\"enter the number\"))\n",
    "if marks>90 : print(\"90+\")\n"
   ]
  },
  {
   "cell_type": "code",
   "execution_count": null,
   "id": "505b5e29",
   "metadata": {},
   "outputs": [],
   "source": [
    "marks=int(input(\"enter marks :\"))\n",
    "print(\"90+\")if marks>90 else print(\"90-\")"
   ]
  },
  {
   "cell_type": "code",
   "execution_count": null,
   "id": "cc26469c",
   "metadata": {},
   "outputs": [],
   "source": [
    "sequence = [10,34,75,89,32,21]\n",
    "op=[]\n",
    "for i in sequence:\n",
    "    if i>50:\n",
    "        op.append(i**2)\n",
    "print(op)\n",
    "        "
   ]
  },
  {
   "cell_type": "code",
   "execution_count": null,
   "id": "e1b05222",
   "metadata": {},
   "outputs": [],
   "source": [
    "lambda arguments : expression\n",
    "lmf = lambda a,b : print(a+b)\n",
    "lmf(85,63)"
   ]
  },
  {
   "cell_type": "code",
   "execution_count": null,
   "id": "dabf5ae6",
   "metadata": {},
   "outputs": [],
   "source": [
    "import numpy as np\n",
    "speed = list(np.random.randint(0,100,10))"
   ]
  },
  {
   "cell_type": "code",
   "execution_count": null,
   "id": "81fb9449",
   "metadata": {},
   "outputs": [],
   "source": [
    "speedometer = lambda sequence : [i for i in sequence if i>50]"
   ]
  },
  {
   "cell_type": "code",
   "execution_count": null,
   "id": "588fb249",
   "metadata": {},
   "outputs": [],
   "source": [
    "speedometer(speed)"
   ]
  },
  {
   "cell_type": "code",
   "execution_count": null,
   "id": "7e1e3c9c",
   "metadata": {},
   "outputs": [],
   "source": [
    "type(speedometer(speed))"
   ]
  },
  {
   "cell_type": "code",
   "execution_count": null,
   "id": "f97a520a",
   "metadata": {},
   "outputs": [],
   "source": [
    "class Mobile:\n",
    "    button = \"on\"\n",
    "    call_list=[]\n",
    "    def __init__(self,company,ROM,camera,RAM):\n",
    "        self.company = company\n",
    "        self.RAM = RAM\n",
    "        self.ROM = ROM\n",
    "        self.camera = camera\n",
    "        \n",
    "    def about (self):\n",
    "        if self.button==\"on\":\n",
    "            print(\"about Mobile\")\n",
    "            print(\"company :\",self.company)\n",
    "            print(\"RAM :\",self.RAM)\n",
    "            print(\"ROM :\",self.ROM)\n",
    "            print(\"camera :\",self.camera)\n",
    "        else:\n",
    "            print(\"mobile locked\")\n",
    "\n",
    "    def call(self):\n",
    "        from datetime.datetime import now\n",
    "        import time\n",
    "        if self.button==\"on\":\n",
    "            number = input(\"dial number ...\")\n",
    "            Time= datetime.now()\n",
    "            t=T.strftime(\"%d/%m/%y %H:%M%:S%\")\n",
    "            print(\"calling......\".center(20,\" \"))\n",
    "            print(f\"{number}\".center(20,\" \"))\n",
    "            \n",
    "            if input(\"is recieved? (y/n)\")==\"y\":\n",
    "                self.call_list.append(f\"+{number} {t}\")\n",
    "               \n",
    "            else:\n",
    "                self.call_list.append(f\"-{number} {t}\")\n",
    "                \n",
    "        else:\n",
    "            print(\"MobIle Locked\")\n",
    "        \n",
    "    def unlock(self):\n",
    "        if input(\"enter ur pin\")== self.pin:\n",
    "            print(\"unlocked\")\n",
    "            self.button = \"on\"\n",
    "        else:\n",
    "            print(\"WRONG PIN\")\n",
    "        \n",
    "    def lock(self):\n",
    "        print(\"locked\")\n",
    "        self.button = \"off\"\n",
    "        \n",
    "    def set_pin(self):\n",
    "        self.pin = input(\"set your pin\")\n",
    "        print(\"pin registered\")\n",
    "    \n",
    "    def call_details(self):\n",
    "        for j,i in enumerate(self.call_list):\n",
    "            print(j+1,\":\",i)\n",
    "        "
   ]
  },
  {
   "cell_type": "code",
   "execution_count": 2,
   "id": "58e27f09",
   "metadata": {},
   "outputs": [
    {
     "name": "stdout",
     "output_type": "stream",
     "text": [
      "0 s\n",
      "1 h\n",
      "2 a\n",
      "3 k\n",
      "4 t\n",
      "5 i\n"
     ]
    }
   ],
   "source": [
    "for j,i in enumerate(\"shakti\"):\n",
    "    print(j,i)\n"
   ]
  },
  {
   "cell_type": "code",
   "execution_count": null,
   "id": "aac023be",
   "metadata": {},
   "outputs": [],
   "source": []
  }
 ],
 "metadata": {
  "kernelspec": {
   "display_name": "Python 3 (ipykernel)",
   "language": "python",
   "name": "python3"
  },
  "language_info": {
   "codemirror_mode": {
    "name": "ipython",
    "version": 3
   },
   "file_extension": ".py",
   "mimetype": "text/x-python",
   "name": "python",
   "nbconvert_exporter": "python",
   "pygments_lexer": "ipython3",
   "version": "3.9.7"
  }
 },
 "nbformat": 4,
 "nbformat_minor": 5
}
